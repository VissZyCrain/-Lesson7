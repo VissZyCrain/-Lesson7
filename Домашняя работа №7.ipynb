{
 "cells": [
  {
   "cell_type": "markdown",
   "id": "8dd62556",
   "metadata": {},
   "source": [
    "## Задача 1"
   ]
  },
  {
   "cell_type": "markdown",
   "id": "9671fb0d",
   "metadata": {},
   "source": [
    "Выбрать тест и проверить, есть  ли различия между выборками:\n",
    "\n",
    "1 )  Даны две  независимые выборки. Не соблюдается условие нормальности\n",
    "\n",
    "x1  380,420, 290\n",
    "\n",
    "y1 140,360,200,900\n",
    "\n",
    "Сделайте вывод по результатам, полученным с помощью функции"
   ]
  },
  {
   "cell_type": "code",
   "execution_count": 9,
   "id": "67560531",
   "metadata": {},
   "outputs": [
    {
     "data": {
      "text/plain": [
       "MannwhitneyuResult(statistic=8.0, pvalue=0.6285714285714286)"
      ]
     },
     "execution_count": 9,
     "metadata": {},
     "output_type": "execute_result"
    }
   ],
   "source": [
    "import numpy as np\n",
    "import scipy.stats as stats\n",
    "x2 = np.array([380, 420, 290])\n",
    "y2 = np.array([140, 360, 200, 900])\n",
    "\n",
    "stats.mannwhitneyu(x2, y2)"
   ]
  },
  {
   "cell_type": "markdown",
   "id": "ac856e54",
   "metadata": {},
   "source": [
    "pvalue > alpha, H0 - не отвергается с ошибкой alpha = 0.05, выборки статистически одинаковые"
   ]
  },
  {
   "cell_type": "markdown",
   "id": "87ca591d",
   "metadata": {},
   "source": [
    "## Задача 2"
   ]
  },
  {
   "cell_type": "markdown",
   "id": "bf20f847",
   "metadata": {},
   "source": [
    " Исследовалось влияние препарата на уровень давления пациентов. Сначала измерялось давление до приема препарата, потом через 10 минут и через 30 минут. Есть ли статистически значимые различия?\n",
    "\n",
    "1е измерение до приема препарата: 150, 160, 165, 145, 155\n",
    "\n",
    "2е измерение через 10 минут: 140, 155, 150,  130, 135\n",
    "\n",
    "3е измерение через 30 минут: 130, 130, 120, 130, 125"
   ]
  },
  {
   "cell_type": "code",
   "execution_count": 10,
   "id": "7fa06e56",
   "metadata": {},
   "outputs": [
    {
     "data": {
      "text/plain": [
       "FriedmanchisquareResult(statistic=9.578947368421062, pvalue=0.00831683351100441)"
      ]
     },
     "execution_count": 10,
     "metadata": {},
     "output_type": "execute_result"
    }
   ],
   "source": [
    "x1 = np.array([150, 160, 165, 145, 155])\n",
    "x2 = np.array([140, 155, 150, 130, 135])\n",
    "x3 = np.array([130, 130, 120, 130, 125])\n",
    "\n",
    "stats.friedmanchisquare(x1, x2, x3)"
   ]
  },
  {
   "cell_type": "markdown",
   "id": "45167ebe",
   "metadata": {},
   "source": [
    "pvalue < alpha, H0 - отвергается с ошибкой alpha = 0.05, принимается гипотеза Н1 - различия есть.\n",
    "Препарат эффективен (работает)."
   ]
  },
  {
   "cell_type": "markdown",
   "id": "060a05ff",
   "metadata": {},
   "source": [
    "## Задача 3"
   ]
  },
  {
   "cell_type": "markdown",
   "id": "adff8587",
   "metadata": {},
   "source": [
    "Сравните 1 и 2 е измерения, предполагая, что 3го измерения через 30 минут не было."
   ]
  },
  {
   "cell_type": "code",
   "execution_count": 11,
   "id": "b63e6d9e",
   "metadata": {},
   "outputs": [
    {
     "data": {
      "text/plain": [
       "WilcoxonResult(statistic=0.0, pvalue=0.0625)"
      ]
     },
     "execution_count": 11,
     "metadata": {},
     "output_type": "execute_result"
    }
   ],
   "source": [
    "x1 = np.array([150, 160, 165, 145, 155])\n",
    "x2 = np.array([140, 155, 150, 130, 135])\n",
    "\n",
    "stats.wilcoxon(x1, x2)"
   ]
  },
  {
   "cell_type": "markdown",
   "id": "59400fe4",
   "metadata": {},
   "source": [
    "Cтатистически значимых различий не обнаружено на уровне значимости alpha = 0.05.\n",
    "Препарат не эффективен (не работает)."
   ]
  },
  {
   "cell_type": "markdown",
   "id": "7ea3467a",
   "metadata": {},
   "source": [
    "## Задача 4 "
   ]
  },
  {
   "cell_type": "markdown",
   "id": "944b537a",
   "metadata": {},
   "source": [
    "Даны 3 группы  учеников плавания.\n",
    "\n",
    "В 1 группе время на дистанцию 50 м составляют:\n",
    "\n",
    "56, 60, 62, 55, 71, 67, 59, 58, 64, 67\n",
    "\n",
    "Вторая группа : 57, 58, 69, 48, 72, 70, 68, 71, 50, 53\n",
    "\n",
    "Третья группа: 57, 67, 49, 48, 47, 55, 66, 51, 54"
   ]
  },
  {
   "cell_type": "code",
   "execution_count": 12,
   "id": "f233310f",
   "metadata": {},
   "outputs": [
    {
     "data": {
      "text/plain": [
       "KruskalResult(statistic=5.465564058257224, pvalue=0.0650380998590494)"
      ]
     },
     "execution_count": 12,
     "metadata": {},
     "output_type": "execute_result"
    }
   ],
   "source": [
    "x1 = np.array([56, 60, 62, 55, 71, 67, 59, 58, 64, 67])\n",
    "x2 = np.array([57, 58, 69, 48, 72, 70, 68, 71, 50, 53])\n",
    "x3 = np.array([57, 67, 49, 48, 47, 55, 66, 51, 54])\n",
    "\n",
    "stats.kruskal(x1, x2, x3)"
   ]
  },
  {
   "cell_type": "markdown",
   "id": "3cc12eae",
   "metadata": {},
   "source": [
    "pvalue > alpha, H0 - не отвергается с ошибкой alpha = 0.05, различий нет, группы статистически равны."
   ]
  },
  {
   "cell_type": "markdown",
   "id": "a5819af5",
   "metadata": {},
   "source": [
    "## Задача 5"
   ]
  },
  {
   "cell_type": "markdown",
   "id": "fd0accf9",
   "metadata": {},
   "source": [
    "Заявляется, что партия изготавливается со средним арифметическим 2,5 см. Проверить данную гипотезу, если известно, что размеры изделий подчинены нормальному закону распределения. Объем выборки 10, уровень статистической значимости 5%\n",
    "\n",
    "2.51, 2.35, 2.74, 2.56, 2.40, 2.36, 2.65, 2.7, 2.67, 2.34"
   ]
  },
  {
   "cell_type": "code",
   "execution_count": 13,
   "id": "ac842c97",
   "metadata": {},
   "outputs": [
    {
     "data": {
      "text/plain": [
       "0.563061366180296"
      ]
     },
     "execution_count": 13,
     "metadata": {},
     "output_type": "execute_result"
    }
   ],
   "source": [
    "X = np.array([2.51, 2.35, 2.74, 2.56, 2.40, 2.36, 2.65, 2.7, 2.67, 2.34])\n",
    "\n",
    "mean = X.mean()\n",
    "std = X.std(ddof=1)\n",
    "\n",
    "t_fact = (mean - 2.5) / std * np.sqrt(len(X))\n",
    "t_fact"
   ]
  },
  {
   "cell_type": "markdown",
   "id": "80763882",
   "metadata": {},
   "source": [
    "По таблице для критерия Стьюдента находим t = 1.833 (для = 0.05 и 9 степенями свободы).\n",
    "Так как t > t_fact (1.833 > 0.56), то гипотеза верна и изделия соответствуют заявленному размеру."
   ]
  },
  {
   "cell_type": "code",
   "execution_count": 14,
   "id": "32203a3b",
   "metadata": {},
   "outputs": [
    {
     "name": "stdout",
     "output_type": "stream",
     "text": [
      "t теор = 2.26\n",
      "t рассч = 0.563\n"
     ]
    }
   ],
   "source": [
    "n = 10\n",
    "m = 2.5\n",
    "\n",
    "t = stats.t.ppf(0.975, 9)\n",
    "print(f\"t теор = {t:.2f}\")\n",
    "\n",
    "t = (mean - m) * np.sqrt(n) / std\n",
    "print(f\"t рассч = {t:.3f}\")"
   ]
  },
  {
   "cell_type": "markdown",
   "id": "31161331",
   "metadata": {},
   "source": [
    "Так как t теор > t рассч, считаем что нулевая гипотеза верна."
   ]
  }
 ],
 "metadata": {
  "kernelspec": {
   "display_name": "Python 3 (ipykernel)",
   "language": "python",
   "name": "python3"
  },
  "language_info": {
   "codemirror_mode": {
    "name": "ipython",
    "version": 3
   },
   "file_extension": ".py",
   "mimetype": "text/x-python",
   "name": "python",
   "nbconvert_exporter": "python",
   "pygments_lexer": "ipython3",
   "version": "3.9.13"
  }
 },
 "nbformat": 4,
 "nbformat_minor": 5
}
